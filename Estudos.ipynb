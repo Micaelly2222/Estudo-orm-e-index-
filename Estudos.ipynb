{
  "nbformat": 4,
  "nbformat_minor": 0,
  "metadata": {
    "colab": {
      "provenance": []
    },
    "kernelspec": {
      "name": "python3",
      "display_name": "Python 3"
    },
    "language_info": {
      "name": "python"
    }
  },
  "cells": [
    {
      "cell_type": "code",
      "execution_count": null,
      "metadata": {
        "colab": {
          "base_uri": "https://localhost:8080/"
        },
        "id": "ZtiytuAtZ6lE",
        "outputId": "b42ecdf6-a4cb-4d3f-aadc-7d033e48e06f"
      },
      "outputs": [
        {
          "output_type": "stream",
          "name": "stdout",
          "text": [
            "Looking in indexes: https://pypi.org/simple, https://us-python.pkg.dev/colab-wheels/public/simple/\n",
            "Collecting faker\n",
            "  Downloading Faker-15.3.4-py3-none-any.whl (1.6 MB)\n",
            "\u001b[K     |████████████████████████████████| 1.6 MB 5.0 MB/s \n",
            "\u001b[?25hRequirement already satisfied: sqlalchemy in /usr/local/lib/python3.8/dist-packages (1.4.45)\n",
            "Requirement already satisfied: python-dateutil>=2.4 in /usr/local/lib/python3.8/dist-packages (from faker) (2.8.2)\n",
            "Requirement already satisfied: six>=1.5 in /usr/local/lib/python3.8/dist-packages (from python-dateutil>=2.4->faker) (1.15.0)\n",
            "Requirement already satisfied: greenlet!=0.4.17 in /usr/local/lib/python3.8/dist-packages (from sqlalchemy) (2.0.1)\n",
            "Installing collected packages: faker\n",
            "Successfully installed faker-15.3.4\n"
          ]
        }
      ],
      "source": [
        "pip install faker sqlalchemy"
      ]
    },
    {
      "cell_type": "code",
      "source": [
        "from sqlalchemy import create_engine\n",
        "from sqlalchemy.orm import declarative_base\n",
        "from sqlalchemy import Column, Integer, String, DateTime\n",
        "from datetime import datetime\n",
        "from sqlalchemy.orm import Session, sessionmaker, scoped_session\n",
        "from faker import Faker\n",
        "from uuid import uuid4\n",
        "import random"
      ],
      "metadata": {
        "id": "ZJjyjWmsZ_zS"
      },
      "execution_count": null,
      "outputs": []
    },
    {
      "cell_type": "code",
      "source": [
        "!pwd"
      ],
      "metadata": {
        "colab": {
          "base_uri": "https://localhost:8080/"
        },
        "id": "v5FgkVxR3Ui8",
        "outputId": "97272e49-c4ad-4f4b-bd24-19ede679b433"
      },
      "execution_count": null,
      "outputs": [
        {
          "output_type": "stream",
          "name": "stdout",
          "text": [
            "/content\n"
          ]
        }
      ]
    },
    {
      "cell_type": "code",
      "source": [
        "fake = Faker('pt_BR')  # criando gerador de dados falsos"
      ],
      "metadata": {
        "id": "sgOBsE-QT2UY"
      },
      "execution_count": null,
      "outputs": []
    },
    {
      "cell_type": "code",
      "source": [
        "engine = create_engine(\"sqlite:///foo.db\", echo=False)  # conectando ao banco de dados\n",
        "Base = declarative_base()  # declarando as estruturas, cria as tabelas dentro da classe\n",
        "\n",
        "class Pessoas(Base):\n",
        "    __tablename__ = \"pessoas\"\n",
        "\n",
        "    id = Column(Integer, primary_key=True, autoincrement=True)\n",
        "    name = Column(String)\n",
        "    email = Column(String)\n",
        "    birth = Column(DateTime)\n",
        "    job = Column(String)\n",
        "\n",
        "class Pessoas2(Base):\n",
        "    __tablename__ = \"pessoas2\"\n",
        "\n",
        "    id = Column(Integer, primary_key=True, autoincrement=True)\n",
        "    name = Column(String,index=True)  # index para deixar as consultas mais rapidas\n",
        "    email = Column(String, index=True, unique=True)  # unique para ter um unico e-mail\n",
        "    birth = Column(DateTime)\n",
        "    job = Column(String)"
      ],
      "metadata": {
        "id": "mlwawLZuuQgn"
      },
      "execution_count": null,
      "outputs": []
    },
    {
      "cell_type": "code",
      "source": [
        "Pessoas.__table__.drop(engine, checkfirst = True)"
      ],
      "metadata": {
        "id": "mWY9XqD3uXX9"
      },
      "execution_count": null,
      "outputs": []
    },
    {
      "cell_type": "code",
      "source": [
        "Pessoas2.__table__.drop(engine, checkfirst = True)"
      ],
      "metadata": {
        "id": "MVk84xGBto0X"
      },
      "execution_count": null,
      "outputs": []
    },
    {
      "cell_type": "code",
      "source": [
        "Base.metadata.create_all(engine)"
      ],
      "metadata": {
        "id": "hv5FvsE5uevv"
      },
      "execution_count": null,
      "outputs": []
    },
    {
      "cell_type": "code",
      "source": [
        "Session = sessionmaker(bind=engine)  # criando uma sessao para manipular os dados(exemplo: select, insert e update)\n",
        "session = Session()"
      ],
      "metadata": {
        "id": "j1E2SjLEujd9"
      },
      "execution_count": null,
      "outputs": []
    },
    {
      "cell_type": "markdown",
      "source": [
        "## Comparando tempo de execução da tabela pessoas1(sem o uso do index) da tabela pessoas2(com o uso do index)###  \n"
      ],
      "metadata": {
        "id": "www5SiLMwrSU"
      }
    },
    {
      "cell_type": "markdown",
      "source": [
        "**1. Inserindo 9999 registros na tabela Pessoas:**"
      ],
      "metadata": {
        "id": "OALsWOARyRMr"
      }
    },
    {
      "cell_type": "code",
      "source": [
        "%%time\n",
        "# inserindo registros no banco\n",
        "# cronometrando usando o comando time     \n",
        "for i in range(9999):  # inserindo 9999 registros\n",
        "  insert_fake = Pessoas(name = fake.name(), email = f\"{uuid4()}{fake.free_email()}\", birth = fake.date_of_birth(), job = fake.job())\n",
        "  session.add(insert_fake)\n",
        "  session.commit()"
      ],
      "metadata": {
        "id": "FD4Zou7vbqHH",
        "colab": {
          "base_uri": "https://localhost:8080/"
        },
        "outputId": "9a560927-d679-4c7c-f587-56e3e8cac79a"
      },
      "execution_count": null,
      "outputs": [
        {
          "output_type": "stream",
          "name": "stdout",
          "text": [
            "CPU times: user 17.3 s, sys: 4.91 s, total: 22.2 s\n",
            "Wall time: 1min 43s\n"
          ]
        }
      ]
    },
    {
      "cell_type": "code",
      "source": [
        "result = session.query(Pessoas).count()  # count para confirmar a quantidade de registros\n",
        "result"
      ],
      "metadata": {
        "colab": {
          "base_uri": "https://localhost:8080/"
        },
        "id": "8FvU0hl-537t",
        "outputId": "a3b1c6e8-aeec-4643-ab65-54ffec09c6a6"
      },
      "execution_count": null,
      "outputs": [
        {
          "output_type": "execute_result",
          "data": {
            "text/plain": [
              "9999"
            ]
          },
          "metadata": {},
          "execution_count": 13
        }
      ]
    },
    {
      "cell_type": "code",
      "source": [
        "# instanciando registros\n",
        "julio_user = Pessoas(name=\"Julio\", email=\"julio01@gmail.com\", birth=datetime.fromisoformat('1995-01-15'), job = \"vendedor\")  # fromisoformat: padrão internacional de data e hora\n",
        "session.add(julio_user)"
      ],
      "metadata": {
        "id": "_ZxDciiC6H1S"
      },
      "execution_count": null,
      "outputs": []
    },
    {
      "cell_type": "code",
      "source": [
        "# cronometrando usando o comando timeit, para ver o tempo medio da execucao\n",
        "%%timeit\n",
        "session.query(Pessoas).filter_by(name=\"Julio\").all()"
      ],
      "metadata": {
        "colab": {
          "base_uri": "https://localhost:8080/"
        },
        "id": "-WXyz8Sm7Ajg",
        "outputId": "f88d438c-ea73-47d4-bb1a-715e3c8005e5"
      },
      "execution_count": null,
      "outputs": [
        {
          "output_type": "stream",
          "name": "stdout",
          "text": [
            "1.34 ms ± 64.6 µs per loop (mean ± std. dev. of 7 runs, 1000 loops each)\n"
          ]
        }
      ]
    },
    {
      "cell_type": "markdown",
      "source": [
        "**2. Inserindo 9999 registros na tabela Pessoas2:**"
      ],
      "metadata": {
        "id": "sg0tb4GZykYb"
      }
    },
    {
      "cell_type": "code",
      "source": [
        "%%time\n",
        "for i in range(9999):\n",
        "  insert_fake = Pessoas2(name = fake.name(), email = f\"{uuid4()}{fake.free_email()}\", birth = fake.date_of_birth(), job = fake.job())\n",
        "  session.add(insert_fake)\n",
        "  session.commit()"
      ],
      "metadata": {
        "colab": {
          "base_uri": "https://localhost:8080/"
        },
        "id": "GVp7pR2Gptc9",
        "outputId": "75dbe84c-216a-41b1-cd32-526da4b7b0fa"
      },
      "execution_count": null,
      "outputs": [
        {
          "output_type": "stream",
          "name": "stdout",
          "text": [
            "CPU times: user 18.2 s, sys: 5.19 s, total: 23.4 s\n",
            "Wall time: 1min 48s\n"
          ]
        }
      ]
    },
    {
      "cell_type": "code",
      "source": [
        "julio_user2 = Pessoas2(name=\"Julio\", email=\"julio01@gmail.com\", birth=datetime.fromisoformat('1995-01-15'), job = \"vendedor\")\n",
        "session.add(julio_user2)"
      ],
      "metadata": {
        "id": "Bs1MUc7zpyL1"
      },
      "execution_count": null,
      "outputs": []
    },
    {
      "cell_type": "code",
      "source": [
        "%%timeit\n",
        "session.query(Pessoas2).filter_by(name=\"Julio\").all()"
      ],
      "metadata": {
        "colab": {
          "base_uri": "https://localhost:8080/"
        },
        "id": "2sbNsjgcp66-",
        "outputId": "194f1e72-32fa-41ed-8604-55a85a3cbfa3"
      },
      "execution_count": null,
      "outputs": [
        {
          "output_type": "stream",
          "name": "stdout",
          "text": [
            "409 µs ± 16.6 µs per loop (mean ± std. dev. of 7 runs, 1000 loops each)\n"
          ]
        }
      ]
    },
    {
      "cell_type": "markdown",
      "source": [
        "**3. Inserindo 5999 registros na tabela Pessoas:**"
      ],
      "metadata": {
        "id": "crTf22pfy4gy"
      }
    },
    {
      "cell_type": "code",
      "source": [
        "%%time\n",
        "for i in range(5999):\n",
        "  insert_fake = Pessoas(name = fake.name(), email = f\"{uuid4()}{fake.free_email()}\", birth = fake.date_of_birth(), job = fake.job())\n",
        "  session.add(insert_fake)\n",
        "  session.commit()"
      ],
      "metadata": {
        "colab": {
          "base_uri": "https://localhost:8080/"
        },
        "id": "3knZKCUkp8xq",
        "outputId": "4e0d5048-015c-4d35-9454-a82f4d145aca"
      },
      "execution_count": null,
      "outputs": [
        {
          "output_type": "stream",
          "name": "stdout",
          "text": [
            "CPU times: user 10.4 s, sys: 2.8 s, total: 13.2 s\n",
            "Wall time: 1min\n"
          ]
        }
      ]
    },
    {
      "cell_type": "code",
      "source": [
        "julio_user = Pessoas(name=\"Julio\", email=\"julio01@gmail.com\", birth=datetime.fromisoformat('1995-01-15'), job = \"vendedor\")\n",
        "session.add(julio_user)"
      ],
      "metadata": {
        "id": "VLLlA4aFqJHU"
      },
      "execution_count": null,
      "outputs": []
    },
    {
      "cell_type": "code",
      "source": [
        "%%timeit\n",
        "session.query(Pessoas).filter_by(name=\"Julio\").all()"
      ],
      "metadata": {
        "colab": {
          "base_uri": "https://localhost:8080/"
        },
        "id": "raaH320lqLAL",
        "outputId": "4e697149-5cab-48ff-809e-04b0eabefcf3"
      },
      "execution_count": null,
      "outputs": [
        {
          "output_type": "stream",
          "name": "stdout",
          "text": [
            "2.63 ms ± 90.3 µs per loop (mean ± std. dev. of 7 runs, 100 loops each)\n"
          ]
        }
      ]
    },
    {
      "cell_type": "markdown",
      "source": [
        "**4. Inserindo 5999 registros na tabela Pessoas2**"
      ],
      "metadata": {
        "id": "eFRS89SFyyG7"
      }
    },
    {
      "cell_type": "code",
      "source": [
        "%%time\n",
        "for i in range(5999):\n",
        "  insert_fake = Pessoas2(name = fake.name(), email = f\"{uuid4()}{fake.free_email()}\", birth = fake.date_of_birth(), job = fake.job())\n",
        "  session.add(insert_fake)\n",
        "  session.commit()"
      ],
      "metadata": {
        "colab": {
          "base_uri": "https://localhost:8080/"
        },
        "id": "tY4ryKqYqmYx",
        "outputId": "c952aad9-e50d-47b7-baf5-32134b0fcef5"
      },
      "execution_count": null,
      "outputs": [
        {
          "output_type": "stream",
          "name": "stdout",
          "text": [
            "CPU times: user 10.7 s, sys: 3.12 s, total: 13.8 s\n",
            "Wall time: 1min 1s\n"
          ]
        }
      ]
    },
    {
      "cell_type": "code",
      "source": [
        "julio_user2 = Pessoas2(name=\"Julio\", email=\"julio01@gmail.com\", birth=datetime.fromisoformat('1995-01-15'), job = \"vendedor\")\n",
        "session.add(julio_user2)"
      ],
      "metadata": {
        "id": "jTl1YHSpqtDx"
      },
      "execution_count": null,
      "outputs": []
    },
    {
      "cell_type": "code",
      "source": [
        "%%timeit\n",
        "session.query(Pessoas2).filter_by(name=\"Julio\").all()"
      ],
      "metadata": {
        "colab": {
          "base_uri": "https://localhost:8080/"
        },
        "id": "2x5bOsXHqubq",
        "outputId": "65ebeeeb-e377-4d92-a662-f46f0322e383"
      },
      "execution_count": null,
      "outputs": [
        {
          "output_type": "stream",
          "name": "stdout",
          "text": [
            "440 µs ± 10.7 µs per loop (mean ± std. dev. of 7 runs, 1000 loops each)\n"
          ]
        }
      ]
    },
    {
      "cell_type": "markdown",
      "source": [
        "## **Conclusão**"
      ],
      "metadata": {
        "id": "vMsiEvuLTVao"
      }
    },
    {
      "cell_type": "markdown",
      "source": [
        "### Com a inserção dos 5999 registros, o tempo de inserção da tabela Pessoas(sem o index) foi de 1.34 ms para 2.6 ms. Enquanto o tempo de inserção da tabela Pessoas2(com o uso do index) foi de 404 µs para 420 µs.\n",
        "\n",
        "### Concluindo que quando temos a coluna indexada e fazemos pesquisa por ela, o tempo é praticamente constante \n"
      ],
      "metadata": {
        "id": "szqhO0Gnz8Qj"
      }
    },
    {
      "cell_type": "markdown",
      "source": [
        "**Visualizando registros:**"
      ],
      "metadata": {
        "id": "bs4fp7Gp-c8Y"
      }
    },
    {
      "cell_type": "code",
      "source": [
        "for (name,email,birth,job) in session.query(Pessoas.name,Pessoas.email,Pessoas.birth,Pessoas.job).limit(10):\n",
        "  print(name,email,birth,job)"
      ],
      "metadata": {
        "colab": {
          "base_uri": "https://localhost:8080/"
        },
        "id": "18BFRLtE_X15",
        "outputId": "c81cf85a-820f-4996-dc3d-f4da268433e0"
      },
      "execution_count": null,
      "outputs": [
        {
          "output_type": "stream",
          "name": "stdout",
          "text": [
            "Sr. Enzo Gabriel Cavalcanti 308e1bd1-3bb6-4feb-81ae-faf7762b782fmaite30@uol.com.br 1968-05-08 00:00:00 Recepcionista\n",
            "Rodrigo Nascimento dde07ecb-a199-4b11-822c-10a5f39ce309azevedopedro-henrique@bol.com.br 1983-02-05 00:00:00 Dedetizador\n",
            "Lorena Azevedo 336a34c3-3fae-4f53-a333-fe8470a7231dfernando78@ig.com.br 2014-11-01 00:00:00 Amolador de ferramentas\n",
            "Valentina Costela d2af9814-0045-42e0-b7dc-51899e1e918amanuela09@gmail.com 2020-05-16 00:00:00 Brigadeiro\n",
            "Sofia Porto 59f56d18-78bd-40ef-bb4f-03b5cc87bc0dzcorreia@ig.com.br 1993-09-20 00:00:00 Telegrafista\n",
            "Benício Peixoto 783c2e48-6adc-4b0f-aaf6-8d8ffca21b8fda-matapedro-miguel@ig.com.br 1923-12-28 00:00:00 Meeiro\n",
            "Erick Azevedo ca159d5c-3853-41d9-bce1-5046bc351511rteixeira@yahoo.com.br 1933-06-18 00:00:00 Leiloeiro\n",
            "Davi Lucas Moreira c5d0a5c8-b233-461c-9541-24927127e96exaragao@ig.com.br 1918-11-24 00:00:00 Engenheiro mecatrônico\n",
            "Rafaela Ribeiro 90eaa133-fd9d-4ac8-ba1e-d9656d61e1f6da-costamarina@uol.com.br 1965-08-17 00:00:00 Major\n",
            "Srta. Brenda Costela 9ca0d874-e784-41d1-bcd7-7e4813731b3blucca51@yahoo.com.br 2019-09-04 00:00:00 Amolador de ferramentas\n"
          ]
        }
      ]
    }
  ]
}