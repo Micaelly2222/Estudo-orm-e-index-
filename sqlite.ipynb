{
  "nbformat": 4,
  "nbformat_minor": 0,
  "metadata": {
    "colab": {
      "provenance": []
    },
    "kernelspec": {
      "name": "python3",
      "display_name": "Python 3"
    },
    "language_info": {
      "name": "python"
    }
  },
  "cells": [
    {
      "cell_type": "code",
      "execution_count": null,
      "metadata": {
        "colab": {
          "base_uri": "https://localhost:8080/"
        },
        "id": "ZtiytuAtZ6lE",
        "outputId": "b3b4af31-95ea-41ec-c087-11eaaf3fab08"
      },
      "outputs": [
        {
          "output_type": "stream",
          "name": "stdout",
          "text": [
            "Looking in indexes: https://pypi.org/simple, https://us-python.pkg.dev/colab-wheels/public/simple/\n",
            "Requirement already satisfied: faker in /usr/local/lib/python3.9/dist-packages (18.3.2)\n",
            "Requirement already satisfied: sqlalchemy in /usr/local/lib/python3.9/dist-packages (1.4.47)\n",
            "Requirement already satisfied: python-dateutil>=2.4 in /usr/local/lib/python3.9/dist-packages (from faker) (2.8.2)\n",
            "Requirement already satisfied: greenlet!=0.4.17 in /usr/local/lib/python3.9/dist-packages (from sqlalchemy) (2.0.2)\n",
            "Requirement already satisfied: six>=1.5 in /usr/local/lib/python3.9/dist-packages (from python-dateutil>=2.4->faker) (1.16.0)\n"
          ]
        }
      ],
      "source": [
        "pip install faker sqlalchemy"
      ]
    },
    {
      "cell_type": "code",
      "source": [
        "from sqlalchemy import create_engine\n",
        "from sqlalchemy.orm import declarative_base\n",
        "from sqlalchemy import Column, Integer, String, DateTime\n",
        "from datetime import datetime\n",
        "from sqlalchemy.orm import Session, sessionmaker, scoped_session\n",
        "from faker import Faker\n",
        "from uuid import uuid4\n",
        "import random"
      ],
      "metadata": {
        "id": "ZJjyjWmsZ_zS"
      },
      "execution_count": null,
      "outputs": []
    },
    {
      "cell_type": "code",
      "source": [
        "!pwd"
      ],
      "metadata": {
        "colab": {
          "base_uri": "https://localhost:8080/"
        },
        "id": "v5FgkVxR3Ui8",
        "outputId": "f2bffc0c-035d-4e44-91c7-8d07e45d01a4"
      },
      "execution_count": null,
      "outputs": [
        {
          "output_type": "stream",
          "name": "stdout",
          "text": [
            "/content\n"
          ]
        }
      ]
    },
    {
      "cell_type": "code",
      "source": [
        "fake = Faker('pt_BR')  # criando gerador de dados falsos"
      ],
      "metadata": {
        "id": "sgOBsE-QT2UY"
      },
      "execution_count": null,
      "outputs": []
    },
    {
      "cell_type": "code",
      "source": [
        "engine = create_engine(\"sqlite:///foo.db\", echo=False)  # conectando ao banco de dados\n",
        "Base = declarative_base()  # declarando as estruturas, cria as tabelas dentro da classe\n",
        "\n",
        "class Pessoas(Base):\n",
        "    __tablename__ = \"pessoas\"\n",
        "\n",
        "    id = Column(Integer, primary_key=True, autoincrement=True)\n",
        "    name = Column(String)\n",
        "    email = Column(String)\n",
        "    birth = Column(DateTime)\n",
        "    job = Column(String)\n",
        "\n",
        "class Pessoas2(Base):\n",
        "    __tablename__ = \"pessoas2\"\n",
        "\n",
        "    id = Column(Integer, primary_key=True, autoincrement=True)\n",
        "    name = Column(String,index=True)  # index para deixar as consultas mais rapidas\n",
        "    email = Column(String, index=True, unique=True)  # unique para ter um unico e-mail\n",
        "    birth = Column(DateTime)\n",
        "    job = Column(String)"
      ],
      "metadata": {
        "id": "mlwawLZuuQgn"
      },
      "execution_count": null,
      "outputs": []
    },
    {
      "cell_type": "code",
      "source": [
        "Pessoas.__table__.drop(engine, checkfirst = True)"
      ],
      "metadata": {
        "id": "mWY9XqD3uXX9"
      },
      "execution_count": null,
      "outputs": []
    },
    {
      "cell_type": "code",
      "source": [
        "Pessoas2.__table__.drop(engine, checkfirst = True)"
      ],
      "metadata": {
        "id": "MVk84xGBto0X"
      },
      "execution_count": null,
      "outputs": []
    },
    {
      "cell_type": "code",
      "source": [
        "Base.metadata.create_all(engine)"
      ],
      "metadata": {
        "id": "hv5FvsE5uevv"
      },
      "execution_count": null,
      "outputs": []
    },
    {
      "cell_type": "code",
      "source": [
        "Session = sessionmaker(bind=engine)  # criando uma sessao para manipular os dados(exemplo: select, insert e update)\n",
        "session = Session()"
      ],
      "metadata": {
        "id": "j1E2SjLEujd9"
      },
      "execution_count": null,
      "outputs": []
    },
    {
      "cell_type": "markdown",
      "source": [
        "## Comparando tempo de execução da tabela pessoas1(sem o uso do index) da tabela pessoas2(com o uso do index)###  \n"
      ],
      "metadata": {
        "id": "www5SiLMwrSU"
      }
    },
    {
      "cell_type": "markdown",
      "source": [
        "**1. Inserindo 9999 registros na tabela Pessoas:**"
      ],
      "metadata": {
        "id": "OALsWOARyRMr"
      }
    },
    {
      "cell_type": "code",
      "source": [
        "%%time\n",
        "# inserindo registros no banco\n",
        "# cronometrando usando o comando time     \n",
        "for i in range(9999):  # inserindo 9999 registros\n",
        "  insert_fake = Pessoas(name = fake.name(), email = f\"{uuid4()}{fake.free_email()}\", birth = fake.date_of_birth(), job = fake.job())\n",
        "  session.add(insert_fake)\n",
        "  session.commit()"
      ],
      "metadata": {
        "id": "FD4Zou7vbqHH",
        "colab": {
          "base_uri": "https://localhost:8080/"
        },
        "outputId": "3fc71071-28d9-4272-a57a-114ad08cb4fd"
      },
      "execution_count": null,
      "outputs": [
        {
          "output_type": "stream",
          "name": "stdout",
          "text": [
            "CPU times: user 20.4 s, sys: 5.22 s, total: 25.6 s\n",
            "Wall time: 1min 53s\n"
          ]
        }
      ]
    },
    {
      "cell_type": "code",
      "source": [
        "result = session.query(Pessoas).count()  # count para confirmar a quantidade de registros\n",
        "result"
      ],
      "metadata": {
        "colab": {
          "base_uri": "https://localhost:8080/"
        },
        "id": "8FvU0hl-537t",
        "outputId": "c0bbd0ec-8664-4980-d3c1-3afd28418ac2"
      },
      "execution_count": null,
      "outputs": [
        {
          "output_type": "execute_result",
          "data": {
            "text/plain": [
              "9999"
            ]
          },
          "metadata": {},
          "execution_count": 11
        }
      ]
    },
    {
      "cell_type": "code",
      "source": [
        "# instanciando registros\n",
        "julio_user = Pessoas(name=\"Julio\", email=\"julio01@gmail.com\", birth=datetime.fromisoformat('1995-01-15'), job = \"vendedor\")  # fromisoformat: padrão internacional de data e hora\n",
        "session.add(julio_user)"
      ],
      "metadata": {
        "id": "_ZxDciiC6H1S"
      },
      "execution_count": null,
      "outputs": []
    },
    {
      "cell_type": "code",
      "source": [
        "# cronometrando usando o comando timeit, para ver o tempo medio da execucao\n",
        "%%timeit\n",
        "session.query(Pessoas).filter_by(name=\"Julio\").all()"
      ],
      "metadata": {
        "id": "-WXyz8Sm7Ajg",
        "colab": {
          "base_uri": "https://localhost:8080/"
        },
        "outputId": "96c49c1f-f043-4a8a-e582-220c2be4995a"
      },
      "execution_count": null,
      "outputs": [
        {
          "output_type": "stream",
          "name": "stdout",
          "text": [
            "1.95 ms ± 474 µs per loop (mean ± std. dev. of 7 runs, 1000 loops each)\n"
          ]
        }
      ]
    },
    {
      "cell_type": "markdown",
      "source": [
        "**2. Inserindo 9999 registros na tabela Pessoas2:**"
      ],
      "metadata": {
        "id": "sg0tb4GZykYb"
      }
    },
    {
      "cell_type": "code",
      "source": [
        "%%time\n",
        "for i in range(9999):\n",
        "  insert_fake = Pessoas2(name = fake.name(), email = f\"{uuid4()}{fake.free_email()}\", birth = fake.date_of_birth(), job = fake.job())\n",
        "  session.add(insert_fake)\n",
        "  session.commit()"
      ],
      "metadata": {
        "id": "GVp7pR2Gptc9",
        "colab": {
          "base_uri": "https://localhost:8080/"
        },
        "outputId": "0a759763-c94b-4515-e36e-f975db5359be"
      },
      "execution_count": null,
      "outputs": [
        {
          "output_type": "stream",
          "name": "stdout",
          "text": [
            "CPU times: user 20.9 s, sys: 5.98 s, total: 26.9 s\n",
            "Wall time: 1min 58s\n"
          ]
        }
      ]
    },
    {
      "cell_type": "code",
      "source": [
        "julio_user2 = Pessoas2(name=\"Julio\", email=\"julio01@gmail.com\", birth=datetime.fromisoformat('1995-01-15'), job = \"vendedor\")\n",
        "session.add(julio_user2)"
      ],
      "metadata": {
        "id": "Bs1MUc7zpyL1"
      },
      "execution_count": null,
      "outputs": []
    },
    {
      "cell_type": "code",
      "source": [
        "%%timeit\n",
        "session.query(Pessoas2).filter_by(name=\"Julio\").all()"
      ],
      "metadata": {
        "id": "2sbNsjgcp66-",
        "colab": {
          "base_uri": "https://localhost:8080/"
        },
        "outputId": "3aaf3d05-d9fb-455c-c16a-7694a3d44d92"
      },
      "execution_count": null,
      "outputs": [
        {
          "output_type": "stream",
          "name": "stdout",
          "text": [
            "435 µs ± 15.4 µs per loop (mean ± std. dev. of 7 runs, 1000 loops each)\n"
          ]
        }
      ]
    },
    {
      "cell_type": "markdown",
      "source": [
        "**3. Inserindo 5999 registros na tabela Pessoas:**"
      ],
      "metadata": {
        "id": "crTf22pfy4gy"
      }
    },
    {
      "cell_type": "code",
      "source": [
        "%%time\n",
        "for i in range(5999):\n",
        "  insert_fake = Pessoas(name = fake.name(), email = f\"{uuid4()}{fake.free_email()}\", birth = fake.date_of_birth(), job = fake.job())\n",
        "  session.add(insert_fake)\n",
        "  session.commit()"
      ],
      "metadata": {
        "id": "3knZKCUkp8xq",
        "colab": {
          "base_uri": "https://localhost:8080/"
        },
        "outputId": "1ed0540b-17cb-40bd-97f8-9be7b2392bc4"
      },
      "execution_count": null,
      "outputs": [
        {
          "output_type": "stream",
          "name": "stdout",
          "text": [
            "CPU times: user 12.6 s, sys: 3.35 s, total: 15.9 s\n",
            "Wall time: 1min 12s\n"
          ]
        }
      ]
    },
    {
      "cell_type": "code",
      "source": [
        "julio_user = Pessoas(name=\"Julio\", email=\"julio01@gmail.com\", birth=datetime.fromisoformat('1995-01-15'), job = \"vendedor\")\n",
        "session.add(julio_user)"
      ],
      "metadata": {
        "id": "VLLlA4aFqJHU"
      },
      "execution_count": null,
      "outputs": []
    },
    {
      "cell_type": "code",
      "source": [
        "%%timeit\n",
        "session.query(Pessoas).filter_by(name=\"Julio\").all()"
      ],
      "metadata": {
        "id": "raaH320lqLAL",
        "colab": {
          "base_uri": "https://localhost:8080/"
        },
        "outputId": "495736d1-2bc6-4e19-96d6-4f8d5f8a2c07"
      },
      "execution_count": null,
      "outputs": [
        {
          "output_type": "stream",
          "name": "stdout",
          "text": [
            "3.21 ms ± 85.5 µs per loop (mean ± std. dev. of 7 runs, 100 loops each)\n"
          ]
        }
      ]
    },
    {
      "cell_type": "markdown",
      "source": [
        "**4. Inserindo 5999 registros na tabela Pessoas2**"
      ],
      "metadata": {
        "id": "eFRS89SFyyG7"
      }
    },
    {
      "cell_type": "code",
      "source": [
        "%%time\n",
        "for i in range(5999):\n",
        "  insert_fake = Pessoas2(name = fake.name(), email = f\"{uuid4()}{fake.free_email()}\", birth = fake.date_of_birth(), job = fake.job())\n",
        "  session.add(insert_fake)\n",
        "  session.commit()"
      ],
      "metadata": {
        "id": "tY4ryKqYqmYx",
        "colab": {
          "base_uri": "https://localhost:8080/"
        },
        "outputId": "87aece02-c964-4634-f856-19ad5e28b1bf"
      },
      "execution_count": null,
      "outputs": [
        {
          "output_type": "stream",
          "name": "stdout",
          "text": [
            "CPU times: user 12.5 s, sys: 3.58 s, total: 16.1 s\n",
            "Wall time: 1min 12s\n"
          ]
        }
      ]
    },
    {
      "cell_type": "code",
      "source": [
        "julio_user2 = Pessoas2(name=\"Julio\", email=\"julio01@gmail.com\", birth=datetime.fromisoformat('1995-01-15'), job = \"vendedor\")\n",
        "session.add(julio_user2)"
      ],
      "metadata": {
        "id": "jTl1YHSpqtDx"
      },
      "execution_count": null,
      "outputs": []
    },
    {
      "cell_type": "code",
      "source": [
        "%%timeit\n",
        "session.query(Pessoas2).filter_by(name=\"Julio\").all()"
      ],
      "metadata": {
        "id": "2x5bOsXHqubq",
        "colab": {
          "base_uri": "https://localhost:8080/"
        },
        "outputId": "ab4914ef-c2c8-46fa-d432-34385cfc0782"
      },
      "execution_count": null,
      "outputs": [
        {
          "output_type": "stream",
          "name": "stdout",
          "text": [
            "455 µs ± 9.39 µs per loop (mean ± std. dev. of 7 runs, 1000 loops each)\n"
          ]
        }
      ]
    },
    {
      "cell_type": "markdown",
      "source": [
        "## **Conclusão**\n",
        "\n",
        "\n",
        "\n",
        "---\n",
        "\n"
      ],
      "metadata": {
        "id": "vMsiEvuLTVao"
      }
    },
    {
      "cell_type": "markdown",
      "source": [
        "* Com a inserção dos 5999 registros, foi possível avaliar o tempo de inserção da  tabela Pessoas (sem o uso de index) e da tabela Pessoas2 (com index)\n",
        "\n",
        "* Os resultados mostraram que o tempo de inserção na tabela Pessoas aumentou de 1.95 ms para 3.21 ms, enquanto o tempo de inserção na tabela Pessoas2 permaneceu praticamente constante, passando de 435 µs para 455 µs. \n",
        "\n",
        "* Esses resultados indicam que, ao indexar uma coluna e fazer pesquisa por ela, o tempo de consulta é praticamente constante, independentemente do tamanho da tabela. Isso ocorre porque o índice permite que o banco de dados localize rapidamente as linhas que correspondem à pesquisa, sem precisar percorrer todas as linhas da tabela.\n",
        "\n",
        "* Dessa forma, o uso de índices é uma técnica importante para melhorar o desempenho de consultas em grandes tabelas.\n",
        "\n",
        "\n",
        "\n",
        "\n"
      ],
      "metadata": {
        "id": "szqhO0Gnz8Qj"
      }
    },
    {
      "cell_type": "markdown",
      "source": [
        "**Visualizando registros:**"
      ],
      "metadata": {
        "id": "bs4fp7Gp-c8Y"
      }
    },
    {
      "cell_type": "code",
      "source": [
        "for (name,email,birth,job) in session.query(Pessoas.name,Pessoas.email,Pessoas.birth,Pessoas.job).limit(10):\n",
        "  print(name,email,birth,job)"
      ],
      "metadata": {
        "id": "18BFRLtE_X15",
        "colab": {
          "base_uri": "https://localhost:8080/"
        },
        "outputId": "afa1452b-cecf-4772-c80f-199e63b6fd19"
      },
      "execution_count": null,
      "outputs": [
        {
          "output_type": "stream",
          "name": "stdout",
          "text": [
            "Sra. Laura Campos 29310411-8895-4a92-988c-5187fabc9746nathannogueira@yahoo.com.br 2018-03-20 00:00:00 Reumatologista\n",
            "Cauã da Rocha e2c666fc-5016-4d56-841f-c4e130ad91admendeslucas@uol.com.br 1983-06-30 00:00:00 Tecnólogo em processos químicos\n",
            "Thales Mendes 0fa14804-96b2-4a2f-83a3-c08330217e6eenzomartins@uol.com.br 1916-09-09 00:00:00 Pedagogo\n",
            "Thiago Peixoto be2a0e40-26bd-4cbf-894f-a547f01cdfdbana-luiza62@bol.com.br 1937-09-14 00:00:00 Pediatra\n",
            "Nicole Lopes cefbd9e2-725e-4c30-9192-a0953b920a19maria28@hotmail.com 2000-06-09 00:00:00 Capitão\n",
            "João Felipe Peixoto 502a703c-af1e-4a55-b28f-b00b9c22cb41sophiabarbosa@gmail.com 1956-01-24 00:00:00 Babá\n",
            "Thiago Caldeira cf0a3077-67b4-4f2f-9b35-417cafa0219fjdias@hotmail.com 1983-07-30 00:00:00 Espeleologista\n",
            "Clara Silveira f01890bf-d972-4a1d-b258-8ef7ed65b0b4maria-alice31@bol.com.br 2013-11-03 00:00:00 Vistoriador de sinistros\n",
            "Breno da Cruz 7196c684-9431-4429-b191-acd6f14ab791yasminpereira@bol.com.br 1986-08-17 00:00:00 Coloproctologista\n",
            "Lavínia Moreira 9d7a4091-759e-4878-83a9-76c1b358bbe3rezendegustavo@ig.com.br 1957-03-23 00:00:00 Médico cirurgião\n"
          ]
        }
      ]
    }
  ]
}